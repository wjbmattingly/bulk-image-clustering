{
 "cells": [
  {
   "cell_type": "code",
   "execution_count": 1,
   "id": "852379f4-13cd-4535-9a8b-afa12cae1589",
   "metadata": {},
   "outputs": [
    {
     "name": "stderr",
     "output_type": "stream",
     "text": [
      "/home/wjbmattingly/anaconda3/envs/bulk-image/lib/python3.9/site-packages/tqdm/auto.py:22: TqdmWarning: IProgress not found. Please update jupyter and ipywidgets. See https://ipywidgets.readthedocs.io/en/stable/user_install.html\n",
      "  from .autonotebook import tqdm as notebook_tqdm\n"
     ]
    }
   ],
   "source": [
    "from src import utils"
   ]
  },
  {
   "cell_type": "code",
   "execution_count": 2,
   "id": "0f8bfe2d-0eb4-4da5-82fc-7ae3ee235e0c",
   "metadata": {},
   "outputs": [],
   "source": [
    "DIRECTORY = \"demo_images/*.jpg\"\n",
    "APP_NAME = \"demo\"\n",
    "NEW_DIRECTORY = f\"./{APP_NAME}/static/images\"\n",
    "CSV_FILENAME = f\"{APP_NAME}.csv\""
   ]
  },
  {
   "cell_type": "code",
   "execution_count": 3,
   "id": "883aa48a-c1c0-4244-b525-5f906acf9da3",
   "metadata": {
    "tags": []
   },
   "outputs": [
    {
     "name": "stdout",
     "output_type": "stream",
     "text": [
      "Creating App Directory demo\n",
      "Running Processing on Images\n",
      "140 Images Gathered into DocumentArray.\n"
     ]
    },
    {
     "name": "stderr",
     "output_type": "stream",
     "text": [
      "Downloading: \"https://github.com/rwightman/pytorch-image-models/releases/download/v0.1-weights/mobilenetv3_large_100_ra-f55367f5.pth\" to /home/wjbmattingly/.cache/torch/hub/checkpoints/mobilenetv3_large_100_ra-f55367f5.pth\n"
     ]
    },
    {
     "name": "stdout",
     "output_type": "stream",
     "text": [
      "Model Created\n"
     ]
    },
    {
     "data": {
      "text/html": [
       "<pre style=\"white-space:pre;overflow-x:auto;line-height:normal;font-family:Menlo,'DejaVu Sans Mono',consolas,'Courier New',monospace\">\n",
       "</pre>\n"
      ],
      "text/plain": [
       "\n"
      ]
     },
     "metadata": {},
     "output_type": "display_data"
    },
    {
     "name": "stdout",
     "output_type": "stream",
     "text": [
      "Documents Embedded\n",
      "Creating UMAP Projections...\n",
      "Identifying Clusters with HDBScan\n",
      "Creating DataFrame and Saving Files\n",
      "Finished\n"
     ]
    }
   ],
   "source": [
    "da, df = utils.process_images(DIRECTORY, APP_NAME, NEW_DIRECTORY,\n",
    "               save_csv=True,\n",
    "               csv_filename=CSV_FILENAME,\n",
    "               save_files=True\n",
    "              )"
   ]
  },
  {
   "cell_type": "code",
   "execution_count": null,
   "id": "c7217393-0231-4dc1-a9ea-c93c5d5d8927",
   "metadata": {},
   "outputs": [
    {
     "name": "stdout",
     "output_type": "stream",
     "text": [
      "2022-10-04 01:15:44,693 Starting Bokeh server version 2.4.3 (running on Tornado 6.2)\n",
      "2022-10-04 01:15:44,694 User authentication hooks NOT provided (default user enabled)\n",
      "2022-10-04 01:15:44,695 Bokeh app running at: http://localhost:5006/demo\n",
      "2022-10-04 01:15:44,695 Starting Bokeh server with process id: 36218\n",
      "['main.py', 'demo.csv']\n",
      "2022-10-04 01:15:45,094 404 GET /favicon.ico (127.0.0.1) 0.27ms\n",
      "2022-10-04 01:15:45,107 WebSocket connection opened\n",
      "2022-10-04 01:15:45,108 ServerConnection created\n"
     ]
    }
   ],
   "source": [
    "!bokeh serve demo --show --args demo.csv"
   ]
  },
  {
   "cell_type": "code",
   "execution_count": null,
   "id": "eaa04a37-9fca-4b44-bebf-870f7ee90dee",
   "metadata": {},
   "outputs": [],
   "source": []
  }
 ],
 "metadata": {
  "kernelspec": {
   "display_name": "Python 3 (ipykernel)",
   "language": "python",
   "name": "python3"
  },
  "language_info": {
   "codemirror_mode": {
    "name": "ipython",
    "version": 3
   },
   "file_extension": ".py",
   "mimetype": "text/x-python",
   "name": "python",
   "nbconvert_exporter": "python",
   "pygments_lexer": "ipython3",
   "version": "3.9.13"
  }
 },
 "nbformat": 4,
 "nbformat_minor": 5
}

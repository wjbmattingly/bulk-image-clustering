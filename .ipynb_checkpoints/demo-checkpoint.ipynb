{
 "cells": [
  {
   "cell_type": "code",
   "execution_count": 1,
   "id": "852379f4-13cd-4535-9a8b-afa12cae1589",
   "metadata": {},
   "outputs": [
    {
     "name": "stderr",
     "output_type": "stream",
     "text": [
      "C:\\Users\\wma22\\anaconda3\\envs\\ushmm-notebooks\\lib\\site-packages\\tqdm\\auto.py:22: TqdmWarning: IProgress not found. Please update jupyter and ipywidgets. See https://ipywidgets.readthedocs.io/en/stable/user_install.html\n",
      "  from .autonotebook import tqdm as notebook_tqdm\n"
     ]
    }
   ],
   "source": [
    "from src import utils"
   ]
  },
  {
   "cell_type": "code",
   "execution_count": 2,
   "id": "0f8bfe2d-0eb4-4da5-82fc-7ae3ee235e0c",
   "metadata": {},
   "outputs": [],
   "source": [
    "DIRECTORY = \"demo_images/*.jpg\"\n",
    "APP_NAME = \"e_codices\"\n",
    "NEW_DIRECTORY = f\"./{APP_NAME}/static/images\""
   ]
  },
  {
   "cell_type": "code",
   "execution_count": 3,
   "id": "883aa48a-c1c0-4244-b525-5f906acf9da3",
   "metadata": {
    "tags": []
   },
   "outputs": [
    {
     "name": "stdout",
     "output_type": "stream",
     "text": [
      "Creating App Directory e_codices\n",
      "Running Processing on Images\n",
      "140 Images Gathered into DocumentArray.\n",
      "Model Created\n"
     ]
    },
    {
     "data": {
      "text/html": [
       "<pre style=\"white-space:pre;overflow-x:auto;line-height:normal;font-family:Menlo,'DejaVu Sans Mono',consolas,'Courier New',monospace\">\n",
       "</pre>\n"
      ],
      "text/plain": [
       "\n"
      ]
     },
     "metadata": {},
     "output_type": "display_data"
    },
    {
     "name": "stdout",
     "output_type": "stream",
     "text": [
      "Documents Embedded\n",
      "Creating UMAP Projections...\n",
      "Identifying Clusters with HDBScan\n",
      "Creating DataFrame and Saving Files\n",
      "Finished\n"
     ]
    }
   ],
   "source": [
    "da, df = utils.process_images(DIRECTORY, APP_NAME, NEW_DIRECTORY,\n",
    "               save_csv=True,\n",
    "               csv_filename=\"e_codices.csv\",\n",
    "               save_files=True\n",
    "              )"
   ]
  },
  {
   "cell_type": "code",
   "execution_count": 4,
   "id": "b8ebcca0-9fe1-40ab-ab5c-4ad72a09da25",
   "metadata": {},
   "outputs": [
    {
     "data": {
      "text/html": [
       "<pre style=\"white-space:pre;overflow-x:auto;line-height:normal;font-family:Menlo,'DejaVu Sans Mono',consolas,'Courier New',monospace\">╭───────────────────────────────── Documents Summary ──────────────────────────────────╮\n",
       "│                                                                                      │\n",
       "│   Type                   DocumentArrayInMemory                                       │\n",
       "│   Length                 <span style=\"color: #008080; text-decoration-color: #008080; font-weight: bold\">140</span>                                                         │\n",
       "│   Homogenous Documents   <span style=\"color: #00ff00; text-decoration-color: #00ff00; font-style: italic\">True</span>                                                        │\n",
       "│   Common Attributes      <span style=\"font-weight: bold\">(</span><span style=\"color: #008000; text-decoration-color: #008000\">'id'</span>, <span style=\"color: #008000; text-decoration-color: #008000\">'tensor'</span>, <span style=\"color: #008000; text-decoration-color: #008000\">'mime_type'</span>, <span style=\"color: #008000; text-decoration-color: #008000\">'uri'</span>, <span style=\"color: #008000; text-decoration-color: #008000\">'tags'</span>, <span style=\"color: #008000; text-decoration-color: #008000\">'embedding'</span><span style=\"font-weight: bold\">)</span>   │\n",
       "│   Multimodal dataclass   <span style=\"color: #ff0000; text-decoration-color: #ff0000; font-style: italic\">False</span>                                                       │\n",
       "│                                                                                      │\n",
       "╰──────────────────────────────────────────────────────────────────────────────────────╯\n",
       "╭────────────────────── Attributes Summary ───────────────────────╮\n",
       "│                                                                 │\n",
       "│  <span style=\"font-weight: bold\"> Attribute </span> <span style=\"font-weight: bold\"> Data type    </span> <span style=\"font-weight: bold\"> #Unique values </span> <span style=\"font-weight: bold\"> Has empty value </span>  │\n",
       "│  ─────────────────────────────────────────────────────────────  │\n",
       "│   embedding   <span style=\"font-weight: bold\">(</span><span style=\"color: #008000; text-decoration-color: #008000\">'Tensor'</span>,<span style=\"font-weight: bold\">)</span>    <span style=\"color: #008080; text-decoration-color: #008080; font-weight: bold\">140</span>              <span style=\"color: #ff0000; text-decoration-color: #ff0000; font-style: italic\">False</span>             │\n",
       "│   id          <span style=\"font-weight: bold\">(</span><span style=\"color: #008000; text-decoration-color: #008000\">'str'</span>,<span style=\"font-weight: bold\">)</span>       <span style=\"color: #008080; text-decoration-color: #008080; font-weight: bold\">140</span>              <span style=\"color: #ff0000; text-decoration-color: #ff0000; font-style: italic\">False</span>             │\n",
       "│   mime_type   <span style=\"font-weight: bold\">(</span><span style=\"color: #008000; text-decoration-color: #008000\">'str'</span>,<span style=\"font-weight: bold\">)</span>       <span style=\"color: #008080; text-decoration-color: #008080; font-weight: bold\">1</span>                <span style=\"color: #ff0000; text-decoration-color: #ff0000; font-style: italic\">False</span>             │\n",
       "│   tags        <span style=\"font-weight: bold\">(</span><span style=\"color: #008000; text-decoration-color: #008000\">'dict'</span>,<span style=\"font-weight: bold\">)</span>      <span style=\"color: #008080; text-decoration-color: #008080; font-weight: bold\">140</span>              <span style=\"color: #ff0000; text-decoration-color: #ff0000; font-style: italic\">False</span>             │\n",
       "│   tensor      <span style=\"font-weight: bold\">(</span><span style=\"color: #008000; text-decoration-color: #008000\">'ndarray'</span>,<span style=\"font-weight: bold\">)</span>   <span style=\"color: #008080; text-decoration-color: #008080; font-weight: bold\">140</span>              <span style=\"color: #ff0000; text-decoration-color: #ff0000; font-style: italic\">False</span>             │\n",
       "│   uri         <span style=\"font-weight: bold\">(</span><span style=\"color: #008000; text-decoration-color: #008000\">'str'</span>,<span style=\"font-weight: bold\">)</span>       <span style=\"color: #008080; text-decoration-color: #008080; font-weight: bold\">140</span>              <span style=\"color: #ff0000; text-decoration-color: #ff0000; font-style: italic\">False</span>             │\n",
       "│                                                                 │\n",
       "╰─────────────────────────────────────────────────────────────────╯\n",
       "</pre>\n"
      ],
      "text/plain": [
       "╭───────────────────────────────── Documents Summary ──────────────────────────────────╮\n",
       "│                                                                                      │\n",
       "│   Type                   DocumentArrayInMemory                                       │\n",
       "│   Length                 \u001b[1;36m140\u001b[0m                                                         │\n",
       "│   Homogenous Documents   \u001b[3;92mTrue\u001b[0m                                                        │\n",
       "│   Common Attributes      \u001b[1m(\u001b[0m\u001b[32m'id'\u001b[0m, \u001b[32m'tensor'\u001b[0m, \u001b[32m'mime_type'\u001b[0m, \u001b[32m'uri'\u001b[0m, \u001b[32m'tags'\u001b[0m, \u001b[32m'embedding'\u001b[0m\u001b[1m)\u001b[0m   │\n",
       "│   Multimodal dataclass   \u001b[3;91mFalse\u001b[0m                                                       │\n",
       "│                                                                                      │\n",
       "╰──────────────────────────────────────────────────────────────────────────────────────╯\n",
       "╭────────────────────── Attributes Summary ───────────────────────╮\n",
       "│                                                                 │\n",
       "│  \u001b[1m \u001b[0m\u001b[1mAttribute\u001b[0m\u001b[1m \u001b[0m \u001b[1m \u001b[0m\u001b[1mData type   \u001b[0m\u001b[1m \u001b[0m \u001b[1m \u001b[0m\u001b[1m#Unique values\u001b[0m\u001b[1m \u001b[0m \u001b[1m \u001b[0m\u001b[1mHas empty value\u001b[0m\u001b[1m \u001b[0m  │\n",
       "│  ─────────────────────────────────────────────────────────────  │\n",
       "│   embedding   \u001b[1m(\u001b[0m\u001b[32m'Tensor'\u001b[0m,\u001b[1m)\u001b[0m    \u001b[1;36m140\u001b[0m              \u001b[3;91mFalse\u001b[0m             │\n",
       "│   id          \u001b[1m(\u001b[0m\u001b[32m'str'\u001b[0m,\u001b[1m)\u001b[0m       \u001b[1;36m140\u001b[0m              \u001b[3;91mFalse\u001b[0m             │\n",
       "│   mime_type   \u001b[1m(\u001b[0m\u001b[32m'str'\u001b[0m,\u001b[1m)\u001b[0m       \u001b[1;36m1\u001b[0m                \u001b[3;91mFalse\u001b[0m             │\n",
       "│   tags        \u001b[1m(\u001b[0m\u001b[32m'dict'\u001b[0m,\u001b[1m)\u001b[0m      \u001b[1;36m140\u001b[0m              \u001b[3;91mFalse\u001b[0m             │\n",
       "│   tensor      \u001b[1m(\u001b[0m\u001b[32m'ndarray'\u001b[0m,\u001b[1m)\u001b[0m   \u001b[1;36m140\u001b[0m              \u001b[3;91mFalse\u001b[0m             │\n",
       "│   uri         \u001b[1m(\u001b[0m\u001b[32m'str'\u001b[0m,\u001b[1m)\u001b[0m       \u001b[1;36m140\u001b[0m              \u001b[3;91mFalse\u001b[0m             │\n",
       "│                                                                 │\n",
       "╰─────────────────────────────────────────────────────────────────╯\n"
      ]
     },
     "metadata": {},
     "output_type": "display_data"
    }
   ],
   "source": [
    "da"
   ]
  },
  {
   "cell_type": "code",
   "execution_count": 5,
   "id": "e766edbc-dde7-4264-980a-851bf412e3bf",
   "metadata": {},
   "outputs": [
    {
     "data": {
      "text/html": [
       "<pre style=\"white-space:pre;overflow-x:auto;line-height:normal;font-family:Menlo,'DejaVu Sans Mono',consolas,'Courier New',monospace\">📄 <span style=\"font-weight: bold\">Document</span>: <span style=\"color: #008080; text-decoration-color: #008080\">68862fa3c415a7a58069d6857b700123</span>\n",
       "╭───────────┬──────────────────────────────────────────────────────────────────╮\n",
       "│<span style=\"font-weight: bold\"> Attribute </span>│<span style=\"font-weight: bold\"> Value                                                            </span>│\n",
       "├───────────┼──────────────────────────────────────────────────────────────────┤\n",
       "│ tensor    │ <span style=\"font-weight: bold\">&lt;</span><span style=\"color: #ff00ff; text-decoration-color: #ff00ff; font-weight: bold\">class</span><span style=\"color: #000000; text-decoration-color: #000000\"> </span><span style=\"color: #008000; text-decoration-color: #008000\">'numpy.ndarray'</span><span style=\"font-weight: bold\">&gt;</span> in shape <span style=\"font-weight: bold\">(</span><span style=\"color: #008080; text-decoration-color: #008080; font-weight: bold\">3</span>, <span style=\"color: #008080; text-decoration-color: #008080; font-weight: bold\">224</span>, <span style=\"color: #008080; text-decoration-color: #008080; font-weight: bold\">224</span><span style=\"font-weight: bold\">)</span>, dtype: float32   │\n",
       "│ mime_type │ image/jpeg                                                       │\n",
       "│ uri       │ demo_images\\<span style=\"color: #008080; text-decoration-color: #008080; font-weight: bold\">0011.j</span>pg                                             │\n",
       "│ tags      │ <span style=\"font-weight: bold\">{</span><span style=\"color: #008000; text-decoration-color: #008000\">'umap_proj_x'</span>: <span style=\"color: #008080; text-decoration-color: #008080; font-weight: bold\">11.782589</span>, <span style=\"color: #008000; text-decoration-color: #008000\">'umap_proj_y'</span>: <span style=\"color: #008080; text-decoration-color: #008080; font-weight: bold\">8.6372</span>, <span style=\"color: #008000; text-decoration-color: #008000\">'name'</span>:        │\n",
       "│           │ <span style=\"color: #008000; text-decoration-color: #008000\">'0011.jpg'</span>, <span style=\"color: #008000; text-decoration-color: #008000\">'static_filename'</span>:                                   │\n",
       "│           │ <span style=\"color: #008000; text-decoration-color: #008000\">'./e_codices/static/images/0011.jpg'</span>, <span style=\"color: #008000; text-decoration-color: #008000\">'label'</span>: <span style=\"color: #008080; text-decoration-color: #008080; font-weight: bold\">1</span><span style=\"font-weight: bold\">}</span>                │\n",
       "│ embedding │ <span style=\"font-weight: bold\">&lt;</span><span style=\"color: #ff00ff; text-decoration-color: #ff00ff; font-weight: bold\">class</span><span style=\"color: #000000; text-decoration-color: #000000\"> </span><span style=\"color: #008000; text-decoration-color: #008000\">'torch.Tensor'</span><span style=\"font-weight: bold\">&gt;</span> in shape <span style=\"font-weight: bold\">(</span><span style=\"color: #008080; text-decoration-color: #008080; font-weight: bold\">1280</span>,<span style=\"font-weight: bold\">)</span>, dtype: float32          │\n",
       "╰───────────┴──────────────────────────────────────────────────────────────────╯\n",
       "</pre>\n"
      ],
      "text/plain": [
       "📄 \u001b[1mDocument\u001b[0m: \u001b[36m68862fa3c415a7a58069d6857b700123\u001b[0m\n",
       "╭───────────┬──────────────────────────────────────────────────────────────────╮\n",
       "│\u001b[1m \u001b[0m\u001b[1mAttribute\u001b[0m\u001b[1m \u001b[0m│\u001b[1m \u001b[0m\u001b[1mValue                                                           \u001b[0m\u001b[1m \u001b[0m│\n",
       "├───────────┼──────────────────────────────────────────────────────────────────┤\n",
       "│ tensor    │ \u001b[1m<\u001b[0m\u001b[1;95mclass\u001b[0m\u001b[39m \u001b[0m\u001b[32m'numpy.ndarray'\u001b[0m\u001b[1m>\u001b[0m in shape \u001b[1m(\u001b[0m\u001b[1;36m3\u001b[0m, \u001b[1;36m224\u001b[0m, \u001b[1;36m224\u001b[0m\u001b[1m)\u001b[0m, dtype: float32   │\n",
       "│ mime_type │ image/jpeg                                                       │\n",
       "│ uri       │ demo_images\\\u001b[1;36m0011.j\u001b[0mpg                                             │\n",
       "│ tags      │ \u001b[1m{\u001b[0m\u001b[32m'umap_proj_x'\u001b[0m: \u001b[1;36m11.782589\u001b[0m, \u001b[32m'umap_proj_y'\u001b[0m: \u001b[1;36m8.6372\u001b[0m, \u001b[32m'name'\u001b[0m:        │\n",
       "│           │ \u001b[32m'0011.jpg'\u001b[0m, \u001b[32m'static_filename'\u001b[0m:                                   │\n",
       "│           │ \u001b[32m'./e_codices/static/images/0011.jpg'\u001b[0m, \u001b[32m'label'\u001b[0m: \u001b[1;36m1\u001b[0m\u001b[1m}\u001b[0m                │\n",
       "│ embedding │ \u001b[1m<\u001b[0m\u001b[1;95mclass\u001b[0m\u001b[39m \u001b[0m\u001b[32m'torch.Tensor'\u001b[0m\u001b[1m>\u001b[0m in shape \u001b[1m(\u001b[0m\u001b[1;36m1280\u001b[0m,\u001b[1m)\u001b[0m, dtype: float32          │\n",
       "╰───────────┴──────────────────────────────────────────────────────────────────╯\n"
      ]
     },
     "metadata": {},
     "output_type": "display_data"
    }
   ],
   "source": [
    "da[10]"
   ]
  },
  {
   "cell_type": "code",
   "execution_count": 6,
   "id": "5bf6b398-f856-4edb-bbda-13c3f5cb4fcb",
   "metadata": {},
   "outputs": [],
   "source": [
    "# da[11].display()"
   ]
  },
  {
   "cell_type": "code",
   "execution_count": 7,
   "id": "839e8235-694a-413b-b091-f69ce2f4af79",
   "metadata": {},
   "outputs": [
    {
     "data": {
      "text/html": [
       "<div>\n",
       "<style scoped>\n",
       "    .dataframe tbody tr th:only-of-type {\n",
       "        vertical-align: middle;\n",
       "    }\n",
       "\n",
       "    .dataframe tbody tr th {\n",
       "        vertical-align: top;\n",
       "    }\n",
       "\n",
       "    .dataframe thead th {\n",
       "        text-align: right;\n",
       "    }\n",
       "</style>\n",
       "<table border=\"1\" class=\"dataframe\">\n",
       "  <thead>\n",
       "    <tr style=\"text-align: right;\">\n",
       "      <th></th>\n",
       "      <th>text</th>\n",
       "      <th>x</th>\n",
       "      <th>y</th>\n",
       "      <th>filename</th>\n",
       "      <th>color</th>\n",
       "    </tr>\n",
       "  </thead>\n",
       "  <tbody>\n",
       "    <tr>\n",
       "      <th>0</th>\n",
       "      <td>0001.jpg</td>\n",
       "      <td>10.604907</td>\n",
       "      <td>9.263918</td>\n",
       "      <td>./e_codices/static/images/0001.jpg</td>\n",
       "      <td>1</td>\n",
       "    </tr>\n",
       "    <tr>\n",
       "      <th>1</th>\n",
       "      <td>0002.jpg</td>\n",
       "      <td>11.866260</td>\n",
       "      <td>9.332811</td>\n",
       "      <td>./e_codices/static/images/0002.jpg</td>\n",
       "      <td>1</td>\n",
       "    </tr>\n",
       "    <tr>\n",
       "      <th>2</th>\n",
       "      <td>0003.jpg</td>\n",
       "      <td>12.260091</td>\n",
       "      <td>9.103125</td>\n",
       "      <td>./e_codices/static/images/0003.jpg</td>\n",
       "      <td>1</td>\n",
       "    </tr>\n",
       "    <tr>\n",
       "      <th>3</th>\n",
       "      <td>0004.jpg</td>\n",
       "      <td>12.196215</td>\n",
       "      <td>9.387492</td>\n",
       "      <td>./e_codices/static/images/0004.jpg</td>\n",
       "      <td>1</td>\n",
       "    </tr>\n",
       "    <tr>\n",
       "      <th>4</th>\n",
       "      <td>0005.jpg</td>\n",
       "      <td>12.225919</td>\n",
       "      <td>9.226414</td>\n",
       "      <td>./e_codices/static/images/0005.jpg</td>\n",
       "      <td>1</td>\n",
       "    </tr>\n",
       "    <tr>\n",
       "      <th>...</th>\n",
       "      <td>...</td>\n",
       "      <td>...</td>\n",
       "      <td>...</td>\n",
       "      <td>...</td>\n",
       "      <td>...</td>\n",
       "    </tr>\n",
       "    <tr>\n",
       "      <th>135</th>\n",
       "      <td>0136.jpg</td>\n",
       "      <td>11.287809</td>\n",
       "      <td>13.254914</td>\n",
       "      <td>./e_codices/static/images/0136.jpg</td>\n",
       "      <td>4</td>\n",
       "    </tr>\n",
       "    <tr>\n",
       "      <th>136</th>\n",
       "      <td>0137.jpg</td>\n",
       "      <td>11.251422</td>\n",
       "      <td>13.753117</td>\n",
       "      <td>./e_codices/static/images/0137.jpg</td>\n",
       "      <td>4</td>\n",
       "    </tr>\n",
       "    <tr>\n",
       "      <th>137</th>\n",
       "      <td>0138.jpg</td>\n",
       "      <td>11.569816</td>\n",
       "      <td>13.211375</td>\n",
       "      <td>./e_codices/static/images/0138.jpg</td>\n",
       "      <td>4</td>\n",
       "    </tr>\n",
       "    <tr>\n",
       "      <th>138</th>\n",
       "      <td>0139.jpg</td>\n",
       "      <td>11.687932</td>\n",
       "      <td>13.754198</td>\n",
       "      <td>./e_codices/static/images/0139.jpg</td>\n",
       "      <td>4</td>\n",
       "    </tr>\n",
       "    <tr>\n",
       "      <th>139</th>\n",
       "      <td>0140.jpg</td>\n",
       "      <td>11.559468</td>\n",
       "      <td>13.035645</td>\n",
       "      <td>./e_codices/static/images/0140.jpg</td>\n",
       "      <td>4</td>\n",
       "    </tr>\n",
       "  </tbody>\n",
       "</table>\n",
       "<p>140 rows × 5 columns</p>\n",
       "</div>"
      ],
      "text/plain": [
       "         text          x          y                            filename  color\n",
       "0    0001.jpg  10.604907   9.263918  ./e_codices/static/images/0001.jpg      1\n",
       "1    0002.jpg  11.866260   9.332811  ./e_codices/static/images/0002.jpg      1\n",
       "2    0003.jpg  12.260091   9.103125  ./e_codices/static/images/0003.jpg      1\n",
       "3    0004.jpg  12.196215   9.387492  ./e_codices/static/images/0004.jpg      1\n",
       "4    0005.jpg  12.225919   9.226414  ./e_codices/static/images/0005.jpg      1\n",
       "..        ...        ...        ...                                 ...    ...\n",
       "135  0136.jpg  11.287809  13.254914  ./e_codices/static/images/0136.jpg      4\n",
       "136  0137.jpg  11.251422  13.753117  ./e_codices/static/images/0137.jpg      4\n",
       "137  0138.jpg  11.569816  13.211375  ./e_codices/static/images/0138.jpg      4\n",
       "138  0139.jpg  11.687932  13.754198  ./e_codices/static/images/0139.jpg      4\n",
       "139  0140.jpg  11.559468  13.035645  ./e_codices/static/images/0140.jpg      4\n",
       "\n",
       "[140 rows x 5 columns]"
      ]
     },
     "execution_count": 7,
     "metadata": {},
     "output_type": "execute_result"
    }
   ],
   "source": [
    "df"
   ]
  },
  {
   "cell_type": "code",
   "execution_count": 8,
   "id": "4b71cd44-e925-47cf-84e6-00b4d5de0c20",
   "metadata": {},
   "outputs": [
    {
     "data": {
      "text/html": [
       "<pre style=\"white-space:pre;overflow-x:auto;line-height:normal;font-family:Menlo,'DejaVu Sans Mono',consolas,'Courier New',monospace\">📄 <span style=\"font-weight: bold\">Document</span>: <span style=\"color: #008080; text-decoration-color: #008080\">e0755795dc729eb08570830e22c7c351</span>\n",
       "╭───────────┬──────────────────────────────────────────────────────────────────╮\n",
       "│<span style=\"font-weight: bold\"> Attribute </span>│<span style=\"font-weight: bold\"> Value                                                            </span>│\n",
       "├───────────┼──────────────────────────────────────────────────────────────────┤\n",
       "│ tensor    │ <span style=\"font-weight: bold\">&lt;</span><span style=\"color: #ff00ff; text-decoration-color: #ff00ff; font-weight: bold\">class</span><span style=\"color: #000000; text-decoration-color: #000000\"> </span><span style=\"color: #008000; text-decoration-color: #008000\">'numpy.ndarray'</span><span style=\"font-weight: bold\">&gt;</span> in shape <span style=\"font-weight: bold\">(</span><span style=\"color: #008080; text-decoration-color: #008080; font-weight: bold\">3</span>, <span style=\"color: #008080; text-decoration-color: #008080; font-weight: bold\">224</span>, <span style=\"color: #008080; text-decoration-color: #008080; font-weight: bold\">224</span><span style=\"font-weight: bold\">)</span>, dtype: float32   │\n",
       "│ mime_type │ image/jpeg                                                       │\n",
       "│ uri       │ demo_images\\<span style=\"color: #008080; text-decoration-color: #008080; font-weight: bold\">0001.j</span>pg                                             │\n",
       "│ tags      │ <span style=\"font-weight: bold\">{</span><span style=\"color: #008000; text-decoration-color: #008000\">'umap_proj_x'</span>: <span style=\"color: #008080; text-decoration-color: #008080; font-weight: bold\">10.604907</span>, <span style=\"color: #008000; text-decoration-color: #008000\">'umap_proj_y'</span>: <span style=\"color: #008080; text-decoration-color: #008080; font-weight: bold\">9.263918</span>, <span style=\"color: #008000; text-decoration-color: #008000\">'name'</span>:      │\n",
       "│           │ <span style=\"color: #008000; text-decoration-color: #008000\">'0001.jpg'</span>, <span style=\"color: #008000; text-decoration-color: #008000\">'static_filename'</span>:                                   │\n",
       "│           │ <span style=\"color: #008000; text-decoration-color: #008000\">'./e_codices/static/images/0001.jpg'</span>, <span style=\"color: #008000; text-decoration-color: #008000\">'label'</span>: <span style=\"color: #008080; text-decoration-color: #008080; font-weight: bold\">1</span><span style=\"font-weight: bold\">}</span>                │\n",
       "│ embedding │ <span style=\"font-weight: bold\">&lt;</span><span style=\"color: #ff00ff; text-decoration-color: #ff00ff; font-weight: bold\">class</span><span style=\"color: #000000; text-decoration-color: #000000\"> </span><span style=\"color: #008000; text-decoration-color: #008000\">'torch.Tensor'</span><span style=\"font-weight: bold\">&gt;</span> in shape <span style=\"font-weight: bold\">(</span><span style=\"color: #008080; text-decoration-color: #008080; font-weight: bold\">1280</span>,<span style=\"font-weight: bold\">)</span>, dtype: float32          │\n",
       "╰───────────┴──────────────────────────────────────────────────────────────────╯\n",
       "</pre>\n"
      ],
      "text/plain": [
       "📄 \u001b[1mDocument\u001b[0m: \u001b[36me0755795dc729eb08570830e22c7c351\u001b[0m\n",
       "╭───────────┬──────────────────────────────────────────────────────────────────╮\n",
       "│\u001b[1m \u001b[0m\u001b[1mAttribute\u001b[0m\u001b[1m \u001b[0m│\u001b[1m \u001b[0m\u001b[1mValue                                                           \u001b[0m\u001b[1m \u001b[0m│\n",
       "├───────────┼──────────────────────────────────────────────────────────────────┤\n",
       "│ tensor    │ \u001b[1m<\u001b[0m\u001b[1;95mclass\u001b[0m\u001b[39m \u001b[0m\u001b[32m'numpy.ndarray'\u001b[0m\u001b[1m>\u001b[0m in shape \u001b[1m(\u001b[0m\u001b[1;36m3\u001b[0m, \u001b[1;36m224\u001b[0m, \u001b[1;36m224\u001b[0m\u001b[1m)\u001b[0m, dtype: float32   │\n",
       "│ mime_type │ image/jpeg                                                       │\n",
       "│ uri       │ demo_images\\\u001b[1;36m0001.j\u001b[0mpg                                             │\n",
       "│ tags      │ \u001b[1m{\u001b[0m\u001b[32m'umap_proj_x'\u001b[0m: \u001b[1;36m10.604907\u001b[0m, \u001b[32m'umap_proj_y'\u001b[0m: \u001b[1;36m9.263918\u001b[0m, \u001b[32m'name'\u001b[0m:      │\n",
       "│           │ \u001b[32m'0001.jpg'\u001b[0m, \u001b[32m'static_filename'\u001b[0m:                                   │\n",
       "│           │ \u001b[32m'./e_codices/static/images/0001.jpg'\u001b[0m, \u001b[32m'label'\u001b[0m: \u001b[1;36m1\u001b[0m\u001b[1m}\u001b[0m                │\n",
       "│ embedding │ \u001b[1m<\u001b[0m\u001b[1;95mclass\u001b[0m\u001b[39m \u001b[0m\u001b[32m'torch.Tensor'\u001b[0m\u001b[1m>\u001b[0m in shape \u001b[1m(\u001b[0m\u001b[1;36m1280\u001b[0m,\u001b[1m)\u001b[0m, dtype: float32          │\n",
       "╰───────────┴──────────────────────────────────────────────────────────────────╯\n"
      ]
     },
     "metadata": {},
     "output_type": "display_data"
    }
   ],
   "source": [
    "da[0]"
   ]
  },
  {
   "cell_type": "code",
   "execution_count": 9,
   "id": "4cf6b696-4959-4feb-a009-2c0db34a39e9",
   "metadata": {},
   "outputs": [
    {
     "data": {
      "text/html": [
       "<div>\n",
       "<style scoped>\n",
       "    .dataframe tbody tr th:only-of-type {\n",
       "        vertical-align: middle;\n",
       "    }\n",
       "\n",
       "    .dataframe tbody tr th {\n",
       "        vertical-align: top;\n",
       "    }\n",
       "\n",
       "    .dataframe thead th {\n",
       "        text-align: right;\n",
       "    }\n",
       "</style>\n",
       "<table border=\"1\" class=\"dataframe\">\n",
       "  <thead>\n",
       "    <tr style=\"text-align: right;\">\n",
       "      <th></th>\n",
       "      <th>text</th>\n",
       "      <th>x</th>\n",
       "      <th>y</th>\n",
       "      <th>filename</th>\n",
       "      <th>color</th>\n",
       "    </tr>\n",
       "  </thead>\n",
       "  <tbody>\n",
       "    <tr>\n",
       "      <th>0</th>\n",
       "      <td>0001.jpg</td>\n",
       "      <td>10.604907</td>\n",
       "      <td>9.263918</td>\n",
       "      <td>./e_codices/static/images/0001.jpg</td>\n",
       "      <td>1</td>\n",
       "    </tr>\n",
       "  </tbody>\n",
       "</table>\n",
       "</div>"
      ],
      "text/plain": [
       "       text          x         y                            filename  color\n",
       "0  0001.jpg  10.604907  9.263918  ./e_codices/static/images/0001.jpg      1"
      ]
     },
     "execution_count": 9,
     "metadata": {},
     "output_type": "execute_result"
    }
   ],
   "source": [
    "df.head(1)"
   ]
  },
  {
   "cell_type": "code",
   "execution_count": null,
   "id": "1e0b9ee6-0193-406a-83a6-0ea651c1b646",
   "metadata": {},
   "outputs": [],
   "source": []
  }
 ],
 "metadata": {
  "kernelspec": {
   "display_name": "Python 3 (ipykernel)",
   "language": "python",
   "name": "python3"
  },
  "language_info": {
   "codemirror_mode": {
    "name": "ipython",
    "version": 3
   },
   "file_extension": ".py",
   "mimetype": "text/x-python",
   "name": "python",
   "nbconvert_exporter": "python",
   "pygments_lexer": "ipython3",
   "version": "3.9.13"
  }
 },
 "nbformat": 4,
 "nbformat_minor": 5
}
